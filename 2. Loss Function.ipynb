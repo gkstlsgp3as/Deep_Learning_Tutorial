{
 "cells": [
  {
   "cell_type": "markdown",
   "id": "86f35840",
   "metadata": {},
   "source": [
    "## 2. Loss Function\n",
    "Let's make a function that computes loss function\n",
    "\n",
    "### sigmoid"
   ]
  },
  {
   "cell_type": "code",
   "execution_count": 1,
   "id": "a773332f",
   "metadata": {},
   "outputs": [],
   "source": [
    "import math\n",
    "\n",
    "def sigmoid(x):\n",
    "    return 1/(1+math.exp(-x))\n",
    "\n",
    "# output: 0~1"
   ]
  },
  {
   "cell_type": "code",
   "execution_count": 2,
   "id": "369c2481",
   "metadata": {},
   "outputs": [
    {
     "data": {
      "text/plain": [
       "1.0"
      ]
     },
     "execution_count": 2,
     "metadata": {},
     "output_type": "execute_result"
    }
   ],
   "source": [
    "sigmoid(100)"
   ]
  },
  {
   "cell_type": "code",
   "execution_count": 3,
   "id": "3307e92d",
   "metadata": {},
   "outputs": [
    {
     "data": {
      "text/plain": [
       "0.7310585786300049"
      ]
     },
     "execution_count": 3,
     "metadata": {},
     "output_type": "execute_result"
    }
   ],
   "source": [
    "sigmoid(1)"
   ]
  },
  {
   "cell_type": "code",
   "execution_count": 4,
   "id": "b6c842a3",
   "metadata": {},
   "outputs": [
    {
     "data": {
      "text/plain": [
       "4.780892883885469e-25"
      ]
     },
     "execution_count": 4,
     "metadata": {},
     "output_type": "execute_result"
    }
   ],
   "source": [
    "sigmoid(-56) # very close to 0 "
   ]
  },
  {
   "cell_type": "markdown",
   "id": "cc73b5b5",
   "metadata": {},
   "source": [
    "### tanh"
   ]
  },
  {
   "cell_type": "code",
   "execution_count": 5,
   "id": "c2239e11",
   "metadata": {},
   "outputs": [],
   "source": [
    "def tanh(x):\n",
    "    return (math.exp(x) - math.exp(-x)) / (math.exp(x) + math.exp(-x))\n",
    "\n",
    "# output: -1~1"
   ]
  },
  {
   "cell_type": "code",
   "execution_count": 6,
   "id": "06e793f5",
   "metadata": {},
   "outputs": [
    {
     "data": {
      "text/plain": [
       "-1.0"
      ]
     },
     "execution_count": 6,
     "metadata": {},
     "output_type": "execute_result"
    }
   ],
   "source": [
    "tanh(-50)"
   ]
  },
  {
   "cell_type": "code",
   "execution_count": 7,
   "id": "48e0d502",
   "metadata": {},
   "outputs": [
    {
     "data": {
      "text/plain": [
       "0.7615941559557649"
      ]
     },
     "execution_count": 7,
     "metadata": {},
     "output_type": "execute_result"
    }
   ],
   "source": [
    "tanh(1)"
   ]
  },
  {
   "cell_type": "markdown",
   "id": "42f9c121",
   "metadata": {},
   "source": [
    "### ReLU"
   ]
  },
  {
   "cell_type": "code",
   "execution_count": 9,
   "id": "4f40e068",
   "metadata": {},
   "outputs": [],
   "source": [
    "def relu(x):\n",
    "    return max(0, x)\n",
    "\n",
    "# 0 for negative values"
   ]
  },
  {
   "cell_type": "code",
   "execution_count": 10,
   "id": "862b3084",
   "metadata": {},
   "outputs": [
    {
     "data": {
      "text/plain": [
       "0"
      ]
     },
     "execution_count": 10,
     "metadata": {},
     "output_type": "execute_result"
    }
   ],
   "source": [
    "relu(-100)"
   ]
  },
  {
   "cell_type": "code",
   "execution_count": 11,
   "id": "ba872bff",
   "metadata": {},
   "outputs": [
    {
     "data": {
      "text/plain": [
       "8"
      ]
     },
     "execution_count": 11,
     "metadata": {},
     "output_type": "execute_result"
    }
   ],
   "source": [
    "relu(8)"
   ]
  },
  {
   "cell_type": "markdown",
   "id": "555ed235",
   "metadata": {},
   "source": [
    "### Leaky ReLU"
   ]
  },
  {
   "cell_type": "code",
   "execution_count": 12,
   "id": "026a2603",
   "metadata": {},
   "outputs": [],
   "source": [
    "def leaky_relu(x):\n",
    "    return max(0.1*x, x)"
   ]
  },
  {
   "cell_type": "code",
   "execution_count": 13,
   "id": "8420f51e",
   "metadata": {},
   "outputs": [
    {
     "data": {
      "text/plain": [
       "-10.0"
      ]
     },
     "execution_count": 13,
     "metadata": {},
     "output_type": "execute_result"
    }
   ],
   "source": [
    "leaky_relu(-100)"
   ]
  },
  {
   "cell_type": "code",
   "execution_count": 14,
   "id": "93b8deed",
   "metadata": {},
   "outputs": [
    {
     "data": {
      "text/plain": [
       "8"
      ]
     },
     "execution_count": 14,
     "metadata": {},
     "output_type": "execute_result"
    }
   ],
   "source": [
    "leaky_relu(8)"
   ]
  },
  {
   "cell_type": "code",
   "execution_count": null,
   "id": "aca3ba1c",
   "metadata": {},
   "outputs": [],
   "source": []
  }
 ],
 "metadata": {
  "kernelspec": {
   "display_name": "Python 3 (ipykernel)",
   "language": "python",
   "name": "python3"
  },
  "language_info": {
   "codemirror_mode": {
    "name": "ipython",
    "version": 3
   },
   "file_extension": ".py",
   "mimetype": "text/x-python",
   "name": "python",
   "nbconvert_exporter": "python",
   "pygments_lexer": "ipython3",
   "version": "3.7.9"
  }
 },
 "nbformat": 4,
 "nbformat_minor": 5
}
