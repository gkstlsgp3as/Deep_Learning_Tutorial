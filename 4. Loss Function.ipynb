{
 "cells": [
  {
   "cell_type": "markdown",
   "id": "75cc176e",
   "metadata": {},
   "source": [
    "## 4. Loss Function\n",
    "Let's explore loss function"
   ]
  },
  {
   "cell_type": "markdown",
   "id": "e66c16cd",
   "metadata": {},
   "source": [
    "1) Mean Absolute Error (MAE)\n",
    "= 1/n sigma(abs(x-x')) \n",
    "x': predicted value"
   ]
  },
  {
   "cell_type": "markdown",
   "id": "98c21021",
   "metadata": {},
   "source": [
    "2) Mean Squared Error (MSE)  = 1/n sigma(x-x')^2"
   ]
  },
  {
   "cell_type": "code",
   "execution_count": 1,
   "id": "48dd37d9",
   "metadata": {},
   "outputs": [],
   "source": [
    "import numpy as np"
   ]
  },
  {
   "cell_type": "code",
   "execution_count": 7,
   "id": "7b588029",
   "metadata": {},
   "outputs": [],
   "source": [
    "y_predict = np.array([1,1,0,0,1])\n",
    "y_true = np.array([0.30, 0.7, 1, 0, 0.5])"
   ]
  },
  {
   "cell_type": "markdown",
   "id": "0849606b",
   "metadata": {},
   "source": [
    "### MAE"
   ]
  },
  {
   "cell_type": "code",
   "execution_count": 12,
   "id": "5dae3984",
   "metadata": {},
   "outputs": [],
   "source": [
    "def mae(y_true, y_predict):\n",
    "    total_err = 0\n",
    "    for yt, yp in zip(y_true, y_predict):\n",
    "        total_err += abs(yt-yp)\n",
    "    print(\"Total Error: \", total_err)\n",
    "    mae = total_err / len(y_true)\n",
    "    print(\"MAE: \", mae)\n",
    "    return mae"
   ]
  },
  {
   "cell_type": "code",
   "execution_count": 13,
   "id": "ae853eb8",
   "metadata": {},
   "outputs": [
    {
     "name": "stdout",
     "output_type": "stream",
     "text": [
      "Total Error:  2.5\n",
      "MAE:  0.5\n"
     ]
    },
    {
     "data": {
      "text/plain": [
       "0.5"
      ]
     },
     "execution_count": 13,
     "metadata": {},
     "output_type": "execute_result"
    }
   ],
   "source": [
    "mae(y_true, y_predict)"
   ]
  },
  {
   "cell_type": "code",
   "execution_count": 14,
   "id": "58596c47",
   "metadata": {},
   "outputs": [
    {
     "data": {
      "text/plain": [
       "0.5"
      ]
     },
     "execution_count": 14,
     "metadata": {},
     "output_type": "execute_result"
    }
   ],
   "source": [
    "np.mean(np.abs(y_predict - y_true)) #numpy is powerful! same result!"
   ]
  },
  {
   "cell_type": "markdown",
   "id": "a6571c5c",
   "metadata": {},
   "source": [
    "### Log \n",
    "It should not have 0. Instead, replace it with the value very close to 0"
   ]
  },
  {
   "cell_type": "code",
   "execution_count": 15,
   "id": "badea07b",
   "metadata": {},
   "outputs": [],
   "source": [
    "epsilon = 1e-15"
   ]
  },
  {
   "cell_type": "code",
   "execution_count": 16,
   "id": "272a8ea2",
   "metadata": {},
   "outputs": [
    {
     "data": {
      "text/plain": [
       "array([1, 1, 0, 0, 1])"
      ]
     },
     "execution_count": 16,
     "metadata": {},
     "output_type": "execute_result"
    }
   ],
   "source": [
    "y_predict # This contains 1 or 0 -> we need to pre-process"
   ]
  },
  {
   "cell_type": "code",
   "execution_count": 17,
   "id": "a19d85c3",
   "metadata": {},
   "outputs": [
    {
     "data": {
      "text/plain": [
       "[1, 1, 1e-15, 1e-15, 1]"
      ]
     },
     "execution_count": 17,
     "metadata": {},
     "output_type": "execute_result"
    }
   ],
   "source": [
    "y_predict_ref = [max(i, epsilon) for i in y_predict]\n",
    "y_predict_ref # replaced 0 with 1e-15"
   ]
  },
  {
   "cell_type": "markdown",
   "id": "a6a2b8b3",
   "metadata": {},
   "source": [
    "It should also not have 1 "
   ]
  },
  {
   "cell_type": "code",
   "execution_count": 19,
   "id": "f61ed45a",
   "metadata": {},
   "outputs": [
    {
     "data": {
      "text/plain": [
       "[0.999999999999999, 0.999999999999999, 1e-15, 1e-15, 0.999999999999999]"
      ]
     },
     "execution_count": 19,
     "metadata": {},
     "output_type": "execute_result"
    }
   ],
   "source": [
    "y_predict_ref = [min(i, 1-epsilon) for i in y_predict_ref]\n",
    "y_predict_ref # replaced 1 with 0.999..."
   ]
  },
  {
   "cell_type": "code",
   "execution_count": 20,
   "id": "6dec75c2",
   "metadata": {},
   "outputs": [
    {
     "name": "stderr",
     "output_type": "stream",
     "text": [
      "C:\\Users\\sienn\\AppData\\Local\\Temp/ipykernel_10852/1198866213.py:1: RuntimeWarning: divide by zero encountered in log\n",
      "  np.log(y_predict)\n"
     ]
    },
    {
     "data": {
      "text/plain": [
       "array([  0.,   0., -inf, -inf,   0.])"
      ]
     },
     "execution_count": 20,
     "metadata": {},
     "output_type": "execute_result"
    }
   ],
   "source": [
    "np.log(y_predict)"
   ]
  },
  {
   "cell_type": "code",
   "execution_count": 21,
   "id": "9e979370",
   "metadata": {},
   "outputs": [
    {
     "data": {
      "text/plain": [
       "array([-9.99200722e-16, -9.99200722e-16, -3.45387764e+01, -3.45387764e+01,\n",
       "       -9.99200722e-16])"
      ]
     },
     "execution_count": 21,
     "metadata": {},
     "output_type": "execute_result"
    }
   ],
   "source": [
    "np.log(y_predict_ref) # It doesn't contain Inf values"
   ]
  },
  {
   "cell_type": "code",
   "execution_count": 25,
   "id": "eebdd8c3",
   "metadata": {},
   "outputs": [],
   "source": [
    "y_predict_ref = np.array(y_predict_ref) # It should be numpy array"
   ]
  },
  {
   "cell_type": "code",
   "execution_count": 26,
   "id": "d98744de",
   "metadata": {},
   "outputs": [
    {
     "data": {
      "text/plain": [
       "17.2696280766844"
      ]
     },
     "execution_count": 26,
     "metadata": {},
     "output_type": "execute_result"
    }
   ],
   "source": [
    "-np.mean(y_true*np.log(y_predict_ref)+(1-y_true)*np.log(1-y_predict_ref)) # successfully calculated"
   ]
  },
  {
   "cell_type": "code",
   "execution_count": 29,
   "id": "1dc3f634",
   "metadata": {},
   "outputs": [],
   "source": [
    "def log_loss(y_true, y_predict):\n",
    "    epsilon = 1e-15\n",
    "    y_predict_ref = [max(i, epsilon) for i in y_predict]\n",
    "    y_predict_ref = [min(i, 1-epsilon) for i in y_predict_ref]\n",
    "    y_predict_ref = np.array(y_predict_ref)\n",
    "    return -np.mean(y_true*np.log(y_predict_ref)+(1-y_true)*np.log(1-y_predict_ref))"
   ]
  },
  {
   "cell_type": "code",
   "execution_count": 30,
   "id": "2a7860b4",
   "metadata": {},
   "outputs": [
    {
     "data": {
      "text/plain": [
       "17.2696280766844"
      ]
     },
     "execution_count": 30,
     "metadata": {},
     "output_type": "execute_result"
    }
   ],
   "source": [
    "log_loss(y_true, y_predict)"
   ]
  },
  {
   "cell_type": "markdown",
   "id": "7c5c92fa",
   "metadata": {},
   "source": [
    "## MSE"
   ]
  },
  {
   "cell_type": "code",
   "execution_count": 33,
   "id": "f84fe545",
   "metadata": {},
   "outputs": [],
   "source": [
    "## With function\n",
    "def mse(y_true, y_predict):\n",
    "    total_err = 0\n",
    "    for yt, yp in zip(y_true, y_predict):\n",
    "        total_err += pow(yt-yp,2)\n",
    "    print(\"Total Error: \", total_err)\n",
    "    mse = total_err / len(y_true)\n",
    "    print(\"MSE: \", mse)\n",
    "    return mse"
   ]
  },
  {
   "cell_type": "code",
   "execution_count": 34,
   "id": "a5b1f5aa",
   "metadata": {},
   "outputs": [
    {
     "name": "stdout",
     "output_type": "stream",
     "text": [
      "Total Error:  1.83\n",
      "MSE:  0.366\n"
     ]
    },
    {
     "data": {
      "text/plain": [
       "0.366"
      ]
     },
     "execution_count": 34,
     "metadata": {},
     "output_type": "execute_result"
    }
   ],
   "source": [
    "mse(y_true, y_predict)"
   ]
  },
  {
   "cell_type": "code",
   "execution_count": 36,
   "id": "8a41aa2c",
   "metadata": {},
   "outputs": [
    {
     "data": {
      "text/plain": [
       "0.366"
      ]
     },
     "execution_count": 36,
     "metadata": {},
     "output_type": "execute_result"
    }
   ],
   "source": [
    "## With numpy\n",
    "np.mean(np.power(y_true-y_predict, 2))"
   ]
  },
  {
   "cell_type": "code",
   "execution_count": null,
   "id": "5882e655",
   "metadata": {},
   "outputs": [],
   "source": []
  }
 ],
 "metadata": {
  "kernelspec": {
   "display_name": "Python (ox)",
   "language": "python",
   "name": "ox"
  },
  "language_info": {
   "codemirror_mode": {
    "name": "ipython",
    "version": 3
   },
   "file_extension": ".py",
   "mimetype": "text/x-python",
   "name": "python",
   "nbconvert_exporter": "python",
   "pygments_lexer": "ipython3",
   "version": "3.9.7"
  }
 },
 "nbformat": 4,
 "nbformat_minor": 5
}
