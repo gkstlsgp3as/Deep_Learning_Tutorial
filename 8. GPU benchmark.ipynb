{
 "cells": [
  {
   "cell_type": "markdown",
   "id": "fffcfa13",
   "metadata": {},
   "source": [
    "## 8. GPU benchmark"
   ]
  },
  {
   "cell_type": "code",
   "execution_count": 15,
   "id": "19300982",
   "metadata": {
    "scrolled": true
   },
   "outputs": [],
   "source": [
    "import tensorflow as tf\n",
    "from tensorflow import keras\n",
    "import matplotlib.pyplot as plt\n",
    "import numpy as np"
   ]
  },
  {
   "cell_type": "code",
   "execution_count": 16,
   "id": "fc3e910d",
   "metadata": {},
   "outputs": [
    {
     "data": {
      "text/plain": [
       "[PhysicalDevice(name='/physical_device:CPU:0', device_type='CPU')]"
      ]
     },
     "execution_count": 16,
     "metadata": {},
     "output_type": "execute_result"
    }
   ],
   "source": [
    "tf.config.experimental.list_physical_devices() # right now, only CPU is available. I need to install CUDA toolkit and cuDNN"
   ]
  },
  {
   "cell_type": "code",
   "execution_count": 17,
   "id": "9b9f2811",
   "metadata": {},
   "outputs": [],
   "source": [
    "# https://shawnhymel.com/1961/how-to-install-tensorflow-with-gpu-support-on-windows/\n",
    "# version: tensorflow 2.6.0 , Cudnn7.6.5 and Cuda 10.1 , python 3.8"
   ]
  },
  {
   "cell_type": "code",
   "execution_count": 18,
   "id": "3efc617b",
   "metadata": {},
   "outputs": [
    {
     "name": "stdout",
     "output_type": "stream",
     "text": [
      "2.6.0\n"
     ]
    }
   ],
   "source": [
    "print(tf.__version__)"
   ]
  },
  {
   "cell_type": "code",
   "execution_count": 19,
   "id": "ba56a64a",
   "metadata": {},
   "outputs": [
    {
     "data": {
      "text/plain": [
       "True"
      ]
     },
     "execution_count": 19,
     "metadata": {},
     "output_type": "execute_result"
    }
   ],
   "source": [
    "tf.test.is_built_with_cuda()"
   ]
  },
  {
   "cell_type": "code",
   "execution_count": 20,
   "id": "cf7c9d4b",
   "metadata": {},
   "outputs": [],
   "source": [
    "(X_train, y_train), (X_test, y_test) = tf.keras.datasets.cifar10.load_data()"
   ]
  },
  {
   "cell_type": "code",
   "execution_count": 21,
   "id": "178311a5",
   "metadata": {},
   "outputs": [
    {
     "data": {
      "text/plain": [
       "(50000, 32, 32, 3)"
      ]
     },
     "execution_count": 21,
     "metadata": {},
     "output_type": "execute_result"
    }
   ],
   "source": [
    "X_train.shape"
   ]
  },
  {
   "cell_type": "code",
   "execution_count": 22,
   "id": "41c7872e",
   "metadata": {},
   "outputs": [
    {
     "data": {
      "text/plain": [
       "array([[ 59,  62,  63],\n",
       "       [ 43,  46,  45],\n",
       "       [ 50,  48,  43],\n",
       "       [ 68,  54,  42],\n",
       "       [ 98,  73,  52],\n",
       "       [119,  91,  63],\n",
       "       [139, 107,  75],\n",
       "       [145, 110,  80],\n",
       "       [149, 117,  89],\n",
       "       [149, 120,  93],\n",
       "       [131, 103,  77],\n",
       "       [125,  99,  76],\n",
       "       [142, 115,  91],\n",
       "       [144, 112,  86],\n",
       "       [137, 105,  79],\n",
       "       [129,  97,  71],\n",
       "       [137, 106,  79],\n",
       "       [134, 106,  76],\n",
       "       [124,  97,  64],\n",
       "       [139, 113,  78],\n",
       "       [139, 112,  75],\n",
       "       [133, 105,  69],\n",
       "       [136, 105,  74],\n",
       "       [139, 108,  77],\n",
       "       [152, 120,  89],\n",
       "       [163, 131, 100],\n",
       "       [168, 136, 108],\n",
       "       [159, 129, 102],\n",
       "       [158, 130, 104],\n",
       "       [158, 132, 108],\n",
       "       [152, 125, 102],\n",
       "       [148, 124, 103]], dtype=uint8)"
      ]
     },
     "execution_count": 22,
     "metadata": {},
     "output_type": "execute_result"
    }
   ],
   "source": [
    "X_train[0][0]"
   ]
  },
  {
   "cell_type": "code",
   "execution_count": 23,
   "id": "c157640e",
   "metadata": {},
   "outputs": [
    {
     "data": {
      "text/plain": [
       "(50000, 1)"
      ]
     },
     "execution_count": 23,
     "metadata": {},
     "output_type": "execute_result"
    }
   ],
   "source": [
    "y_train.shape"
   ]
  },
  {
   "cell_type": "code",
   "execution_count": 24,
   "id": "b6ba1d21",
   "metadata": {},
   "outputs": [
    {
     "data": {
      "text/plain": [
       "array([[6],\n",
       "       [9],\n",
       "       [9],\n",
       "       [4],\n",
       "       [1]], dtype=uint8)"
      ]
     },
     "execution_count": 24,
     "metadata": {},
     "output_type": "execute_result"
    }
   ],
   "source": [
    "y_train[0:5] # ex. 6 = frog"
   ]
  },
  {
   "cell_type": "code",
   "execution_count": 25,
   "id": "15faa774",
   "metadata": {},
   "outputs": [],
   "source": [
    "def plot_sample(index):\n",
    "    plt.figure(figsize = (10,1))\n",
    "    plt.imshow(X_train[index])"
   ]
  },
  {
   "cell_type": "code",
   "execution_count": 28,
   "id": "04ed68c5",
   "metadata": {},
   "outputs": [
    {
     "data": {
      "text/plain": [
       "<function __main__.plot_sample(index)>"
      ]
     },
     "execution_count": 28,
     "metadata": {},
     "output_type": "execute_result"
    }
   ],
   "source": [
    "plot_sample # we can see the image of a frog!"
   ]
  },
  {
   "cell_type": "code",
   "execution_count": 31,
   "id": "c4c54fe6",
   "metadata": {},
   "outputs": [],
   "source": [
    "classes = ['airplane','automobile','bird','cat','deer','dog','frog','horse','ship','truck']"
   ]
  },
  {
   "cell_type": "code",
   "execution_count": 32,
   "id": "db0924bb",
   "metadata": {},
   "outputs": [
    {
     "data": {
      "text/plain": [
       "'deer'"
      ]
     },
     "execution_count": 32,
     "metadata": {},
     "output_type": "execute_result"
    }
   ],
   "source": [
    "classes[y_train[3][0]]"
   ]
  },
  {
   "cell_type": "code",
   "execution_count": 44,
   "id": "74b92de7",
   "metadata": {},
   "outputs": [],
   "source": [
    "X_train_scaled = X_train/255 # normalize it to 0~1\n",
    "X_test_scaled = X_test/255"
   ]
  },
  {
   "cell_type": "code",
   "execution_count": 45,
   "id": "b72f9e83",
   "metadata": {},
   "outputs": [
    {
     "data": {
      "text/plain": [
       "(50000, 32, 32, 3)"
      ]
     },
     "execution_count": 45,
     "metadata": {},
     "output_type": "execute_result"
    }
   ],
   "source": [
    "X_train_scaled.shape"
   ]
  },
  {
   "cell_type": "code",
   "execution_count": 46,
   "id": "7ec74ed5",
   "metadata": {},
   "outputs": [
    {
     "data": {
      "text/plain": [
       "array([[6],\n",
       "       [9],\n",
       "       [9],\n",
       "       [4],\n",
       "       [1]], dtype=uint8)"
      ]
     },
     "execution_count": 46,
     "metadata": {},
     "output_type": "execute_result"
    }
   ],
   "source": [
    "y_train[:5] # these are not in one-hot encoding! "
   ]
  },
  {
   "cell_type": "code",
   "execution_count": 47,
   "id": "b4c806a8",
   "metadata": {},
   "outputs": [
    {
     "data": {
      "text/plain": [
       "array([[0., 0., 0., ..., 0., 0., 0.],\n",
       "       [0., 0., 0., ..., 0., 0., 1.],\n",
       "       [0., 0., 0., ..., 0., 0., 1.],\n",
       "       ...,\n",
       "       [0., 0., 0., ..., 0., 0., 1.],\n",
       "       [0., 1., 0., ..., 0., 0., 0.],\n",
       "       [0., 1., 0., ..., 0., 0., 0.]], dtype=float32)"
      ]
     },
     "execution_count": 47,
     "metadata": {},
     "output_type": "execute_result"
    }
   ],
   "source": [
    "y_train_categorical = keras.utils.to_categorical(\n",
    "    y_train, num_classes = 10, dtype = 'float32'\n",
    ")\n",
    "\n",
    "y_train_categorical # in one-hot encoding"
   ]
  },
  {
   "cell_type": "code",
   "execution_count": 48,
   "id": "fbcd60d4",
   "metadata": {},
   "outputs": [],
   "source": [
    "y_test_categorical = keras.utils.to_categorical(\n",
    "    y_test, num_classes = 10, dtype = 'float32'\n",
    ")"
   ]
  },
  {
   "cell_type": "code",
   "execution_count": 49,
   "id": "64e46e0e",
   "metadata": {},
   "outputs": [
    {
     "data": {
      "text/plain": [
       "(50000, 32, 32, 3)"
      ]
     },
     "execution_count": 49,
     "metadata": {},
     "output_type": "execute_result"
    }
   ],
   "source": [
    "X_train.shape"
   ]
  },
  {
   "cell_type": "code",
   "execution_count": 50,
   "id": "17aabff7",
   "metadata": {},
   "outputs": [
    {
     "data": {
      "text/plain": [
       "(50000, 32, 32, 3)"
      ]
     },
     "execution_count": 50,
     "metadata": {},
     "output_type": "execute_result"
    }
   ],
   "source": [
    "X_train_scaled.shape"
   ]
  },
  {
   "cell_type": "code",
   "execution_count": 51,
   "id": "51a25fe9",
   "metadata": {},
   "outputs": [
    {
     "data": {
      "text/plain": [
       "3072"
      ]
     },
     "execution_count": 51,
     "metadata": {},
     "output_type": "execute_result"
    }
   ],
   "source": [
    "32*32*3 # the size of flatten layer"
   ]
  },
  {
   "cell_type": "code",
   "execution_count": 52,
   "id": "ad67d1e0",
   "metadata": {},
   "outputs": [
    {
     "data": {
      "text/plain": [
       "(50000, 10)"
      ]
     },
     "execution_count": 52,
     "metadata": {},
     "output_type": "execute_result"
    }
   ],
   "source": [
    "y_train_categorical.shape"
   ]
  },
  {
   "cell_type": "code",
   "execution_count": 53,
   "id": "11ecf6fe",
   "metadata": {},
   "outputs": [
    {
     "name": "stdout",
     "output_type": "stream",
     "text": [
      "Epoch 1/50\n",
      "1563/1563 [==============================] - 46s 29ms/step - loss: 1.8098 - accuracy: 0.3544\n",
      "Epoch 2/50\n",
      "1563/1563 [==============================] - 54s 34ms/step - loss: 1.6244 - accuracy: 0.4297\n",
      "Epoch 3/50\n",
      "1563/1563 [==============================] - 77s 49ms/step - loss: 1.5424 - accuracy: 0.4556\n",
      "Epoch 4/50\n",
      "1563/1563 [==============================] - 62s 39ms/step - loss: 1.4811 - accuracy: 0.4798\n",
      "Epoch 5/50\n",
      "1563/1563 [==============================] - 70s 45ms/step - loss: 1.4315 - accuracy: 0.4953\n",
      "Epoch 6/50\n",
      "1563/1563 [==============================] - 56s 36ms/step - loss: 1.3890 - accuracy: 0.5121\n",
      "Epoch 7/50\n",
      "1563/1563 [==============================] - 73s 46ms/step - loss: 1.3522 - accuracy: 0.5268\n",
      "Epoch 8/50\n",
      "1563/1563 [==============================] - 60s 38ms/step - loss: 1.3164 - accuracy: 0.5394\n",
      "Epoch 9/50\n",
      "1563/1563 [==============================] - 65s 41ms/step - loss: 1.2827 - accuracy: 0.5519\n",
      "Epoch 10/50\n",
      "1563/1563 [==============================] - 64s 41ms/step - loss: 1.2533 - accuracy: 0.5597\n",
      "Epoch 11/50\n",
      "1563/1563 [==============================] - 63s 40ms/step - loss: 1.2249 - accuracy: 0.5706\n",
      "Epoch 12/50\n",
      "1563/1563 [==============================] - 76s 49ms/step - loss: 1.1972 - accuracy: 0.5814\n",
      "Epoch 13/50\n",
      "1563/1563 [==============================] - 63s 41ms/step - loss: 1.1689 - accuracy: 0.5898\n",
      "Epoch 14/50\n",
      "1563/1563 [==============================] - 69s 44ms/step - loss: 1.1392 - accuracy: 0.6043\n",
      "Epoch 15/50\n",
      "1563/1563 [==============================] - 65s 41ms/step - loss: 1.1160 - accuracy: 0.6112\n",
      "Epoch 16/50\n",
      "1563/1563 [==============================] - 63s 40ms/step - loss: 1.0869 - accuracy: 0.6222\n",
      "Epoch 17/50\n",
      "1563/1563 [==============================] - 70s 45ms/step - loss: 1.0614 - accuracy: 0.6294\n",
      "Epoch 18/50\n",
      "1563/1563 [==============================] - 61s 39ms/step - loss: 1.0379 - accuracy: 0.6383\n",
      "Epoch 19/50\n",
      "1563/1563 [==============================] - 70s 45ms/step - loss: 1.0119 - accuracy: 0.6483\n",
      "Epoch 20/50\n",
      "1563/1563 [==============================] - 82s 53ms/step - loss: 0.9873 - accuracy: 0.6576\n",
      "Epoch 21/50\n",
      "1563/1563 [==============================] - 69s 44ms/step - loss: 0.9596 - accuracy: 0.6686\n",
      "Epoch 22/50\n",
      "1563/1563 [==============================] - 78s 50ms/step - loss: 0.9351 - accuracy: 0.6764\n",
      "Epoch 23/50\n",
      "1563/1563 [==============================] - 66s 42ms/step - loss: 0.9093 - accuracy: 0.6857\n",
      "Epoch 24/50\n",
      "1563/1563 [==============================] - 63s 40ms/step - loss: 0.8836 - accuracy: 0.6963\n",
      "Epoch 25/50\n",
      "1563/1563 [==============================] - 72s 46ms/step - loss: 0.8598 - accuracy: 0.7016\n",
      "Epoch 26/50\n",
      "1563/1563 [==============================] - 68s 43ms/step - loss: 0.8331 - accuracy: 0.7139\n",
      "Epoch 27/50\n",
      "1563/1563 [==============================] - 66s 42ms/step - loss: 0.8100 - accuracy: 0.7220\n",
      "Epoch 28/50\n",
      "1563/1563 [==============================] - 70s 45ms/step - loss: 0.7833 - accuracy: 0.7306\n",
      "Epoch 29/50\n",
      "1563/1563 [==============================] - 72s 46ms/step - loss: 0.7581 - accuracy: 0.7398\n",
      "Epoch 30/50\n",
      "1563/1563 [==============================] - 68s 43ms/step - loss: 0.7348 - accuracy: 0.7491\n",
      "Epoch 31/50\n",
      "1563/1563 [==============================] - 77s 49ms/step - loss: 0.7093 - accuracy: 0.7593\n",
      "Epoch 32/50\n",
      "1563/1563 [==============================] - 69s 44ms/step - loss: 0.6823 - accuracy: 0.7675\n",
      "Epoch 33/50\n",
      "1563/1563 [==============================] - 73s 46ms/step - loss: 0.6622 - accuracy: 0.7778\n",
      "Epoch 34/50\n",
      "1563/1563 [==============================] - 67s 43ms/step - loss: 0.6368 - accuracy: 0.7866\n",
      "Epoch 35/50\n",
      "1563/1563 [==============================] - 69s 44ms/step - loss: 0.6113 - accuracy: 0.7957\n",
      "Epoch 36/50\n",
      "1563/1563 [==============================] - 71s 46ms/step - loss: 0.5855 - accuracy: 0.8028\n",
      "Epoch 37/50\n",
      "1563/1563 [==============================] - 72s 46ms/step - loss: 0.5637 - accuracy: 0.8132\n",
      "Epoch 38/50\n",
      "1563/1563 [==============================] - 63s 40ms/step - loss: 0.5411 - accuracy: 0.8219\n",
      "Epoch 39/50\n",
      "1563/1563 [==============================] - 85s 55ms/step - loss: 0.5209 - accuracy: 0.8278\n",
      "Epoch 40/50\n",
      "1563/1563 [==============================] - 85s 54ms/step - loss: 0.4981 - accuracy: 0.8366\n",
      "Epoch 41/50\n",
      "1563/1563 [==============================] - 84s 54ms/step - loss: 0.4716 - accuracy: 0.8476\n",
      "Epoch 42/50\n",
      "1563/1563 [==============================] - 87s 56ms/step - loss: 0.4533 - accuracy: 0.8541\n",
      "Epoch 43/50\n",
      "1563/1563 [==============================] - 83s 53ms/step - loss: 0.4315 - accuracy: 0.8615\n",
      "Epoch 44/50\n",
      "1563/1563 [==============================] - 84s 54ms/step - loss: 0.4129 - accuracy: 0.8686\n",
      "Epoch 45/50\n",
      "1563/1563 [==============================] - 86s 55ms/step - loss: 0.3914 - accuracy: 0.8760\n",
      "Epoch 46/50\n",
      "1563/1563 [==============================] - 83s 53ms/step - loss: 0.3704 - accuracy: 0.8852\n",
      "Epoch 47/50\n",
      "1563/1563 [==============================] - 83s 53ms/step - loss: 0.3508 - accuracy: 0.8920\n",
      "Epoch 48/50\n",
      "1563/1563 [==============================] - 88s 56ms/step - loss: 0.3323 - accuracy: 0.8979\n",
      "Epoch 49/50\n",
      "1563/1563 [==============================] - 85s 54ms/step - loss: 0.3184 - accuracy: 0.9033\n",
      "Epoch 50/50\n",
      "1563/1563 [==============================] - 83s 53ms/step - loss: 0.2997 - accuracy: 0.9099\n"
     ]
    },
    {
     "data": {
      "text/plain": [
       "<keras.callbacks.History at 0x1a3b3a7f5e0>"
      ]
     },
     "execution_count": 53,
     "metadata": {},
     "output_type": "execute_result"
    }
   ],
   "source": [
    "# ANN \n",
    "model = keras.Sequential([\n",
    "    keras.layers.Flatten(input_shape=(32,32,3)), # flatten layer\n",
    "    keras.layers.Dense(3000, activation = 'relu'), # hidden layer\n",
    "    keras.layers.Dense(1000, activation = 'relu'), # hidden layer, the nodes are randomly given\n",
    "    keras.layers.Dense(10, activation = 'sigmoid') # output layer  \n",
    "])\n",
    "\n",
    "model.compile(optimizer='SGD',\n",
    "             loss = 'categorical_crossentropy', # for one-hot encoding \n",
    "              # (if it is in 0, 1, 2, .. , 9 then, sparse_categorical_crossentropy)\n",
    "             metrics = ['accuracy'])\n",
    "\n",
    "model.fit(X_train_scaled, y_train_categorical, epochs=50)"
   ]
  },
  {
   "cell_type": "code",
   "execution_count": 54,
   "id": "90911f4a",
   "metadata": {},
   "outputs": [
    {
     "data": {
      "text/plain": [
       "array([[6.04674339e-01, 7.68483639e-01, 8.09397101e-01, ...,\n",
       "        2.21520662e-04, 4.30237234e-01, 1.12865329e-01],\n",
       "       [6.17319465e-01, 9.94368672e-01, 2.18189955e-01, ...,\n",
       "        1.57954186e-01, 9.99939203e-01, 9.77783561e-01],\n",
       "       [9.19405758e-01, 9.29981232e-01, 2.70354927e-01, ...,\n",
       "        7.22154915e-01, 9.97179866e-01, 9.33674455e-01],\n",
       "       ...,\n",
       "       [3.26844662e-01, 8.39084387e-04, 9.97206032e-01, ...,\n",
       "        8.60554695e-01, 1.33588433e-01, 3.77821922e-03],\n",
       "       [7.52315223e-02, 4.54149753e-01, 9.43706870e-01, ...,\n",
       "        3.08062136e-02, 6.50046468e-02, 8.05360079e-03],\n",
       "       [1.29635274e-01, 2.46057808e-02, 8.71749699e-01, ...,\n",
       "        9.93077636e-01, 1.16455495e-01, 2.56009400e-01]], dtype=float32)"
      ]
     },
     "execution_count": 54,
     "metadata": {},
     "output_type": "execute_result"
    }
   ],
   "source": [
    "model.predict(X_test_scaled)"
   ]
  },
  {
   "cell_type": "code",
   "execution_count": 55,
   "id": "483b345d",
   "metadata": {},
   "outputs": [
    {
     "data": {
      "text/plain": [
       "3"
      ]
     },
     "execution_count": 55,
     "metadata": {},
     "output_type": "execute_result"
    }
   ],
   "source": [
    "np.argmax(model.predict(X_test_scaled)[0]) # need to use maximum value for the answer "
   ]
  },
  {
   "cell_type": "code",
   "execution_count": 56,
   "id": "8f9c3750",
   "metadata": {},
   "outputs": [
    {
     "data": {
      "text/plain": [
       "'cat'"
      ]
     },
     "execution_count": 56,
     "metadata": {},
     "output_type": "execute_result"
    }
   ],
   "source": [
    "classes[np.argmax(model.predict(X_test_scaled)[0])] # need to use maximum value for the answer "
   ]
  },
  {
   "cell_type": "code",
   "execution_count": 57,
   "id": "c78e791e",
   "metadata": {},
   "outputs": [
    {
     "data": {
      "text/plain": [
       "array([3], dtype=uint8)"
      ]
     },
     "execution_count": 57,
     "metadata": {},
     "output_type": "execute_result"
    }
   ],
   "source": [
    "y_test[0]"
   ]
  },
  {
   "cell_type": "code",
   "execution_count": 58,
   "id": "2ae618ed",
   "metadata": {},
   "outputs": [
    {
     "data": {
      "text/plain": [
       "'cat'"
      ]
     },
     "execution_count": 58,
     "metadata": {},
     "output_type": "execute_result"
    }
   ],
   "source": [
    "classes[y_test[0][0]]"
   ]
  },
  {
   "cell_type": "code",
   "execution_count": 59,
   "id": "5dfdf89f",
   "metadata": {},
   "outputs": [
    {
     "name": "stdout",
     "output_type": "stream",
     "text": [
      "313/313 [==============================] - 7s 20ms/step - loss: 1.5627 - accuracy: 0.5638\n"
     ]
    },
    {
     "data": {
      "text/plain": [
       "[1.5626628398895264, 0.5637999773025513]"
      ]
     },
     "execution_count": 59,
     "metadata": {},
     "output_type": "execute_result"
    }
   ],
   "source": [
    "model.evaluate(X_test_scaled, y_test_categorical)"
   ]
  },
  {
   "cell_type": "code",
   "execution_count": 60,
   "id": "685a1841",
   "metadata": {},
   "outputs": [],
   "source": [
    "def get_model():\n",
    "    model = keras.Sequential([\n",
    "        keras.layers.Flatten(input_shape=(32,32,3)), # flatten layer\n",
    "        keras.layers.Dense(3000, activation = 'relu'), # hidden layer\n",
    "        keras.layers.Dense(1000, activation = 'relu'), # hidden layer, the nodes are randomly given\n",
    "        keras.layers.Dense(10, activation = 'sigmoid') # output layer  \n",
    "    ])\n",
    "    \n",
    "    model.compile(optimizer='SGD',\n",
    "             loss = 'categorical_crossentropy', # for one-hot encoding \n",
    "              # (if it is in 0, 1, 2, .. , 9 then, sparse_categorical_crossentropy)\n",
    "             metrics = ['accuracy'])\n",
    "    \n",
    "    return model"
   ]
  },
  {
   "cell_type": "code",
   "execution_count": null,
   "id": "d80e50b1",
   "metadata": {},
   "outputs": [],
   "source": []
  },
  {
   "cell_type": "code",
   "execution_count": null,
   "id": "465fb887",
   "metadata": {},
   "outputs": [],
   "source": []
  },
  {
   "cell_type": "code",
   "execution_count": null,
   "id": "16184b11",
   "metadata": {},
   "outputs": [],
   "source": []
  }
 ],
 "metadata": {
  "kernelspec": {
   "display_name": "Python 3 (ipykernel)",
   "language": "python",
   "name": "python3"
  },
  "language_info": {
   "codemirror_mode": {
    "name": "ipython",
    "version": 3
   },
   "file_extension": ".py",
   "mimetype": "text/x-python",
   "name": "python",
   "nbconvert_exporter": "python",
   "pygments_lexer": "ipython3",
   "version": "3.8.13"
  }
 },
 "nbformat": 4,
 "nbformat_minor": 5
}
