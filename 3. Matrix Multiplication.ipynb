{
 "cells": [
  {
   "cell_type": "markdown",
   "id": "0f3fcda3",
   "metadata": {},
   "source": [
    "## 3. Matrix Multiplication\n",
    "Let's learn basics of matrix multiplication"
   ]
  },
  {
   "cell_type": "code",
   "execution_count": 1,
   "id": "27d21d8a",
   "metadata": {},
   "outputs": [],
   "source": [
    "import numpy as np"
   ]
  },
  {
   "cell_type": "code",
   "execution_count": 3,
   "id": "a7e34717",
   "metadata": {},
   "outputs": [],
   "source": [
    "rev = np.array([[100, 200, 220], [24, 36, 40], [12, 18, 20]])\n",
    "exp = np.array([[80, 90, 100], [10, 16, 20], [6, 10, 10]])"
   ]
  },
  {
   "cell_type": "code",
   "execution_count": 5,
   "id": "2ceab08e",
   "metadata": {},
   "outputs": [
    {
     "data": {
      "text/plain": [
       "array([[100, 200, 220],\n",
       "       [ 24,  36,  40],\n",
       "       [ 12,  18,  20]])"
      ]
     },
     "execution_count": 5,
     "metadata": {},
     "output_type": "execute_result"
    }
   ],
   "source": [
    "rev"
   ]
  },
  {
   "cell_type": "code",
   "execution_count": 6,
   "id": "5a64959d",
   "metadata": {},
   "outputs": [
    {
     "data": {
      "text/plain": [
       "array([[ 80,  90, 100],\n",
       "       [ 10,  16,  20],\n",
       "       [  6,  10,  10]])"
      ]
     },
     "execution_count": 6,
     "metadata": {},
     "output_type": "execute_result"
    }
   ],
   "source": [
    "exp"
   ]
  },
  {
   "cell_type": "code",
   "execution_count": 4,
   "id": "e14ebfee",
   "metadata": {},
   "outputs": [
    {
     "data": {
      "text/plain": [
       "array([[ 20, 110, 120],\n",
       "       [ 14,  20,  20],\n",
       "       [  6,   8,  10]])"
      ]
     },
     "execution_count": 4,
     "metadata": {},
     "output_type": "execute_result"
    }
   ],
   "source": [
    "profit = rev - exp # you can just subtract using numpy array\n",
    "profit"
   ]
  },
  {
   "cell_type": "code",
   "execution_count": 7,
   "id": "8eeb984b",
   "metadata": {},
   "outputs": [],
   "source": [
    "price_p_unit = np.array([1000, 400, 1200])\n",
    "units = np.array([[30, 40, 50], [5, 10, 15], [2, 5, 7]])"
   ]
  },
  {
   "cell_type": "code",
   "execution_count": 9,
   "id": "6d9b552a",
   "metadata": {},
   "outputs": [
    {
     "data": {
      "text/plain": [
       "array([[30000, 16000, 60000],\n",
       "       [ 5000,  4000, 18000],\n",
       "       [ 2000,  2000,  8400]])"
      ]
     },
     "execution_count": 9,
     "metadata": {},
     "output_type": "execute_result"
    }
   ],
   "source": [
    "price_p_unit*units # if we multiply, it automatically expands the first array \n",
    "# as if [[1000, 400, 1200], [1000, 400, 1200], [1000, 400, 1200]]"
   ]
  },
  {
   "cell_type": "code",
   "execution_count": 11,
   "id": "ad1be30e",
   "metadata": {},
   "outputs": [
    {
     "data": {
      "text/plain": [
       "array([34400, 50000, 64400])"
      ]
     },
     "execution_count": 11,
     "metadata": {},
     "output_type": "execute_result"
    }
   ],
   "source": [
    "# Then, we need dot product\n",
    "np.dot(price_p_unit, units)"
   ]
  },
  {
   "cell_type": "code",
   "execution_count": null,
   "id": "25a75af9",
   "metadata": {},
   "outputs": [],
   "source": []
  }
 ],
 "metadata": {
  "kernelspec": {
   "display_name": "Python (ox)",
   "language": "python",
   "name": "ox"
  },
  "language_info": {
   "codemirror_mode": {
    "name": "ipython",
    "version": 3
   },
   "file_extension": ".py",
   "mimetype": "text/x-python",
   "name": "python",
   "nbconvert_exporter": "python",
   "pygments_lexer": "ipython3",
   "version": "3.9.7"
  }
 },
 "nbformat": 4,
 "nbformat_minor": 5
}
