{
 "cells": [
  {
   "cell_type": "markdown",
   "id": "fffcfa13",
   "metadata": {},
   "source": [
    "## 8. GPU benchmark"
   ]
  },
  {
   "cell_type": "code",
   "execution_count": 2,
   "id": "19300982",
   "metadata": {},
   "outputs": [],
   "source": [
    "import tensorflow as tf\n",
    "from tensorflow import keras\n",
    "import matplotlib.pyplot as plt\n",
    "import numpy as np"
   ]
  },
  {
   "cell_type": "code",
   "execution_count": 4,
   "id": "fc3e910d",
   "metadata": {},
   "outputs": [
    {
     "data": {
      "text/plain": [
       "[PhysicalDevice(name='/physical_device:CPU:0', device_type='CPU')]"
      ]
     },
     "execution_count": 4,
     "metadata": {},
     "output_type": "execute_result"
    }
   ],
   "source": [
    "tf.config.experimental.list_physical_devices() # right now, only CPU is available. I need to install CUDA toolkit and cuDNN"
   ]
  },
  {
   "cell_type": "code",
   "execution_count": 5,
   "id": "9b9f2811",
   "metadata": {},
   "outputs": [],
   "source": [
    "# https://shawnhymel.com/1961/how-to-install-tensorflow-with-gpu-support-on-windows/\n",
    "# version: tensorflow 2.9.1 , Cudnn7.6.5 and Cuda 10.1 , python 3.8"
   ]
  },
  {
   "cell_type": "code",
   "execution_count": 8,
   "id": "3efc617b",
   "metadata": {},
   "outputs": [
    {
     "name": "stdout",
     "output_type": "stream",
     "text": [
      "2.9.1\n"
     ]
    }
   ],
   "source": [
    "print(tf.__version__)"
   ]
  },
  {
   "cell_type": "code",
   "execution_count": null,
   "id": "ba56a64a",
   "metadata": {},
   "outputs": [],
   "source": [
    "tf.test.is_built_with_cuda()"
   ]
  },
  {
   "cell_type": "code",
   "execution_count": null,
   "id": "cf7c9d4b",
   "metadata": {},
   "outputs": [],
   "source": [
    "(X_train, y_train), (X_test, y_test) = tf.keras.datasets.cifar10.load_data()"
   ]
  },
  {
   "cell_type": "code",
   "execution_count": null,
   "id": "178311a5",
   "metadata": {},
   "outputs": [],
   "source": [
    "X_train.shape"
   ]
  },
  {
   "cell_type": "code",
   "execution_count": null,
   "id": "41c7872e",
   "metadata": {},
   "outputs": [],
   "source": [
    "X_train[0][0]"
   ]
  },
  {
   "cell_type": "code",
   "execution_count": null,
   "id": "c157640e",
   "metadata": {},
   "outputs": [],
   "source": [
    "y_train.shape"
   ]
  },
  {
   "cell_type": "code",
   "execution_count": null,
   "id": "b6ba1d21",
   "metadata": {},
   "outputs": [],
   "source": [
    "y_train[0:5] # ex. 6 = frog"
   ]
  },
  {
   "cell_type": "code",
   "execution_count": null,
   "id": "15faa774",
   "metadata": {},
   "outputs": [],
   "source": [
    "def plot_sample(index):\n",
    "    plt.figure(figsize = (10,1))\n",
    "    plt.imshow(X_train[index])"
   ]
  },
  {
   "cell_type": "code",
   "execution_count": null,
   "id": "04ed68c5",
   "metadata": {},
   "outputs": [],
   "source": [
    "plot_sample[0] # we can see the image of a frog!"
   ]
  },
  {
   "cell_type": "code",
   "execution_count": null,
   "id": "42f2a21d",
   "metadata": {},
   "outputs": [],
   "source": [
    "plot_sample[1] # we can see the image of a truck!"
   ]
  },
  {
   "cell_type": "code",
   "execution_count": null,
   "id": "c4c54fe6",
   "metadata": {},
   "outputs": [],
   "source": [
    "classes = ['airplane','automobile','bird','cat','deer','dog','frog','horse','ship','truck']"
   ]
  },
  {
   "cell_type": "code",
   "execution_count": null,
   "id": "db0924bb",
   "metadata": {},
   "outputs": [],
   "source": [
    "classes[y_train[3][0]]"
   ]
  },
  {
   "cell_type": "code",
   "execution_count": null,
   "id": "74b92de7",
   "metadata": {},
   "outputs": [],
   "source": [
    "X_train_scaled = X_train[0]/255 # normalize it to 0~1\n",
    "X_test_scaled = X_test[0]/255"
   ]
  },
  {
   "cell_type": "code",
   "execution_count": null,
   "id": "b72f9e83",
   "metadata": {},
   "outputs": [],
   "source": [
    "X_train_scaled.shape"
   ]
  },
  {
   "cell_type": "code",
   "execution_count": null,
   "id": "7ec74ed5",
   "metadata": {},
   "outputs": [],
   "source": [
    "y_train[:5] # these are not in one-hot encoding! "
   ]
  },
  {
   "cell_type": "code",
   "execution_count": null,
   "id": "b4c806a8",
   "metadata": {},
   "outputs": [],
   "source": [
    "y_train_categorical = keras.utils.to_categorical(\n",
    "    y_train, num_classes = 10, dtype = 'float32'\n",
    ")\n",
    "\n",
    "y_train_categorical # in one-hot encoding"
   ]
  },
  {
   "cell_type": "code",
   "execution_count": null,
   "id": "fbcd60d4",
   "metadata": {},
   "outputs": [],
   "source": [
    "y_test_categorical = keras.utils.to_categorical(\n",
    "    y_test, num_classes = 10, dtype = 'float32'\n",
    ")"
   ]
  },
  {
   "cell_type": "code",
   "execution_count": null,
   "id": "64e46e0e",
   "metadata": {},
   "outputs": [],
   "source": [
    "X_train.shape"
   ]
  },
  {
   "cell_type": "code",
   "execution_count": null,
   "id": "51a25fe9",
   "metadata": {},
   "outputs": [],
   "source": [
    "32*32*3 # the size of flatten layer"
   ]
  },
  {
   "cell_type": "code",
   "execution_count": null,
   "id": "11ecf6fe",
   "metadata": {},
   "outputs": [],
   "source": [
    "# ANN \n",
    "model = keras.Sequential([\n",
    "    keras.layers.Flatten(input_shape=(32,32,3)), # flatten layer\n",
    "    keras.layers.Dense(3000, activation = 'relu'), # hidden layer\n",
    "    keras.layers.Dense(1000, activation = 'relu'), # hidden layer, the nodes are randomly given\n",
    "    keras.layers.Dense(10, activation = 'sigmoid') # output layer  \n",
    "])\n",
    "\n",
    "model.compile(optimizer='SGD',\n",
    "             loss = 'categorical_crossentropy', # for one-hot encoding \n",
    "              # (if it is in 0, 1, 2, .. , 9 then, sparse_categorical_crossentropy)\n",
    "             metrics = ['accuracy'])\n",
    "\n",
    "model.fit(X_train_scaled, y_train_categorical, epochs=50)"
   ]
  },
  {
   "cell_type": "code",
   "execution_count": null,
   "id": "90911f4a",
   "metadata": {},
   "outputs": [],
   "source": [
    "model.predict(X_test_scaled)"
   ]
  },
  {
   "cell_type": "code",
   "execution_count": null,
   "id": "483b345d",
   "metadata": {},
   "outputs": [],
   "source": [
    "np.argmax(model.predict(X_test_scaled)[0]) # need to use maximum value for the answer "
   ]
  },
  {
   "cell_type": "code",
   "execution_count": null,
   "id": "8f9c3750",
   "metadata": {},
   "outputs": [],
   "source": [
    "classes[np.argmax(model.predict(X_test_scaled)[0])] # need to use maximum value for the answer "
   ]
  },
  {
   "cell_type": "code",
   "execution_count": null,
   "id": "c78e791e",
   "metadata": {},
   "outputs": [],
   "source": [
    "y_test[0]"
   ]
  },
  {
   "cell_type": "code",
   "execution_count": null,
   "id": "2ae618ed",
   "metadata": {},
   "outputs": [],
   "source": [
    "classes[y_test[0][0]]"
   ]
  },
  {
   "cell_type": "code",
   "execution_count": null,
   "id": "5dfdf89f",
   "metadata": {},
   "outputs": [],
   "source": [
    "model.evaluate(X_test_scaled, y_test_categorical)"
   ]
  },
  {
   "cell_type": "code",
   "execution_count": null,
   "id": "685a1841",
   "metadata": {},
   "outputs": [],
   "source": [
    "def get_model():\n",
    "    model = keras.Sequential([\n",
    "        keras.layers.Flatten(input_shape=(32,32,3)), # flatten layer\n",
    "        keras.layers.Dense(3000, activation = 'relu'), # hidden layer\n",
    "        keras.layers.Dense(1000, activation = 'relu'), # hidden layer, the nodes are randomly given\n",
    "        keras.layers.Dense(10, activation = 'sigmoid') # output layer  \n",
    "    ])\n",
    "    \n",
    "    model.compile(optimizer='SGD',\n",
    "             loss = 'categorical_crossentropy', # for one-hot encoding \n",
    "              # (if it is in 0, 1, 2, .. , 9 then, sparse_categorical_crossentropy)\n",
    "             metrics = ['accuracy'])\n",
    "    \n",
    "    return model"
   ]
  },
  {
   "cell_type": "code",
   "execution_count": null,
   "id": "49ece234",
   "metadata": {},
   "outputs": [],
   "source": [
    "%%timeit -nl -rl # it will execute this cell multiple times, and see the average time for execution\n",
    "with tf.device('/CPU:0'):\n",
    "    cpu_model = get_model()\n",
    "    cpu_modelfit(X_train_scaled, y_train_categorical, epochs=1)"
   ]
  },
  {
   "cell_type": "code",
   "execution_count": null,
   "id": "6d83f21c",
   "metadata": {},
   "outputs": [],
   "source": [
    "%%timeit -nl -rl # Let's compare the time with GPU\n",
    "with tf.device('/GPU:0'):\n",
    "    cpu_model = get_model()\n",
    "    cpu_modelfit(X_train_scaled, y_train_categorical, epochs=1)"
   ]
  },
  {
   "cell_type": "code",
   "execution_count": null,
   "id": "84aa4846",
   "metadata": {},
   "outputs": [],
   "source": [
    "%%timeit -nl -rl # Let's compare the time with 10 epochs \n",
    "with tf.device('/CPU:0'):\n",
    "    cpu_model = get_model()\n",
    "    cpu_modelfit(X_train_scaled, y_train_categorical, epochs=1)"
   ]
  },
  {
   "cell_type": "code",
   "execution_count": null,
   "id": "d80e50b1",
   "metadata": {},
   "outputs": [],
   "source": []
  },
  {
   "cell_type": "code",
   "execution_count": null,
   "id": "7403ef8b",
   "metadata": {},
   "outputs": [],
   "source": []
  }
 ],
 "metadata": {
  "kernelspec": {
   "display_name": "Python 3 (ipykernel)",
   "language": "python",
   "name": "python3"
  },
  "language_info": {
   "codemirror_mode": {
    "name": "ipython",
    "version": 3
   },
   "file_extension": ".py",
   "mimetype": "text/x-python",
   "name": "python",
   "nbconvert_exporter": "python",
   "pygments_lexer": "ipython3",
   "version": "3.7.9"
  }
 },
 "nbformat": 4,
 "nbformat_minor": 5
}
